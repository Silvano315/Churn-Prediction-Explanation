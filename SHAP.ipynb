{
 "cells": [
  {
   "cell_type": "markdown",
   "metadata": {},
   "source": [
    "# SHAP Analysis and Results"
   ]
  },
  {
   "cell_type": "code",
   "execution_count": null,
   "metadata": {},
   "outputs": [],
   "source": [
    "# Import Libraries\n",
    "\n",
    "import pandas as pd\n",
    "import numpy as np\n",
    "import shap\n",
    "from sklearn.model_selection import train_test_split\n",
    "from sklearn.metrics import accuracy_score, recall_score, precision_score, f1_score, balanced_accuracy_score, roc_auc_score\n",
    "from xgboost import XGBClassifier\n",
    "from imblearn.over_sampling import SMOTE\n",
    "from catboost import CatBoostClassifier"
   ]
  },
  {
   "cell_type": "markdown",
   "metadata": {},
   "source": [
    "## SHAP with XGBoost"
   ]
  },
  {
   "cell_type": "code",
   "execution_count": null,
   "metadata": {},
   "outputs": [],
   "source": [
    "# Import dataframe \n",
    "\n",
    "df = pd.read_excel(\"Data/CustomerChurn_Transformed.xlsx\", index_col=0)\n",
    "df.head(5)"
   ]
  },
  {
   "cell_type": "code",
   "execution_count": null,
   "metadata": {},
   "outputs": [],
   "source": [
    "# Define input and label then split in training and test\n",
    "\n",
    "X = df.drop(columns='Churn')\n",
    "y = df['Churn']\n",
    "\n",
    "X_train, X_test, y_train, y_test = train_test_split(X, y, test_size=0.3, random_state=59)"
   ]
  },
  {
   "cell_type": "code",
   "execution_count": null,
   "metadata": {},
   "outputs": [],
   "source": [
    "# Apply SMOTE to training\n",
    "\n",
    "smote = SMOTE(random_state=59)\n",
    "X_train_resampled, y_train_resampled = smote.fit_resample(X_train, y_train)"
   ]
  },
  {
   "cell_type": "code",
   "execution_count": null,
   "metadata": {},
   "outputs": [],
   "source": [
    "# Model training\n",
    "\n",
    "model = XGBClassifier(learning_rate= 0.01, max_depth = 3, n_estimators = 1000)\n",
    "model.fit(X_train_resampled, y_train_resampled)\n",
    "\n",
    "y_test_proba = model.predict_proba(X_test)[:, 1]\n",
    "y_test_pred = model.predict(X_test)\n",
    "\n",
    "test_metrics = {\n",
    "    'accuracy': accuracy_score(y_test, y_test_pred),\n",
    "    'recall': recall_score(y_test, y_test_pred),\n",
    "    'precision': precision_score(y_test, y_test_pred),\n",
    "    'f1_score': f1_score(y_test, y_test_pred),\n",
    "    'balanced_accuracy': balanced_accuracy_score(y_test, y_test_pred),\n",
    "    'roc_auc': roc_auc_score(y_test, y_test_proba),\n",
    "}\n",
    "\n",
    "print(\"Test Metrics:\", test_metrics)"
   ]
  },
  {
   "cell_type": "code",
   "execution_count": null,
   "metadata": {},
   "outputs": [],
   "source": [
    "# SHAP algorithm\n",
    "\n",
    "explainer = shap.Explainer(model)\n",
    "shap_values = explainer(X_test)"
   ]
  },
  {
   "cell_type": "code",
   "execution_count": null,
   "metadata": {},
   "outputs": [],
   "source": [
    "# Results visualization\n",
    "\n",
    "# Save SHAP plots\n",
    "shap.summary_plot(shap_values, X_test, show=False)\n",
    "shap.summary_plot(shap_values, X_test, plot_type=\"bar\", show=False)\n",
    "\n",
    "# Save the plots\n",
    "shap.summary_plot(shap_values, X_test, show=False, plot_type=\"bar\").savefig(\"shap_summary_plot_xgboost.png\")\n",
    "shap.summary_plot(shap_values, X_test, show=False).savefig(\"shap_summary_plot_xgboost_detail.png\")"
   ]
  }
 ],
 "metadata": {
  "kernelspec": {
   "display_name": ".venv",
   "language": "python",
   "name": "python3"
  },
  "language_info": {
   "name": "python",
   "version": "3.11.9"
  }
 },
 "nbformat": 4,
 "nbformat_minor": 2
}
